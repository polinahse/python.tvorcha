{
  "nbformat": 4,
  "nbformat_minor": 0,
  "metadata": {
    "colab": {
      "provenance": []
    },
    "kernelspec": {
      "name": "python3",
      "display_name": "Python 3"
    },
    "language_info": {
      "name": "python"
    }
  },
  "cells": [
    {
      "cell_type": "markdown",
      "metadata": {
        "id": "V4njW26kU2d7"
      },
      "source": [
        "# Урок 11.\n",
        "## Работа с символами, строками, встроенные методы работы со строками (find,  replace, split, isdigit, isalpha, upper, lower).\n",
        "str - строковый тип (текст)\n",
        "\n",
        "Последовательность символов можно представить в виде строки так:\n",
        "\n",
        "'Текст в виде строки. Можно использовать цифры и другие символы, но не всякие.'\n",
        "\n",
        "или так:\n",
        "\n",
        "\"1 + 2 = 3 - my text.\"\n",
        "\n",
        "Можно преобразовать число в строку:\n",
        "\n",
        "str(1)\n",
        "\n",
        "### Длина строки len(my_str)\n",
        "\n",
        "### Обращение к элементу строки my_str[i]\n",
        "\n",
        "Можно перебирать символы строки в цикле for\n",
        "\n",
        "for elem in my_str:\n",
        "\n",
        "    print(elem * 2)\n",
        "\n",
        "В строках можно использовать специальные символы, например, перевод строки '\\n'.\n",
        "## Методы строк:\n",
        "https://docs.python.org/3/library/stdtypes.html#string-methods\n",
        "### find\n",
        "находит первое вхождение символа или строки, переданных в качестве аргумента, можно задать облать поиска внутри строки, передав вторым и третьим аргументом номер начального и конечного символа строки, между которыми нужно вести поиск.\n",
        "\n",
        "Если нужно искать от некоторой позиции до конца строки, то указывается только второй аргумент!\n",
        "\n",
        "'This is my favourite string'.find('is', 3, 7) ищет первое вхождение строки  is в строке This is my favourite string начиная с третьего символа и до седьмого, не включая седьмой, возвращает номер первого символа строки is в строке This is my favourite string, т.е. 5. Если не задавать область поиска, то получится 2.\n",
        "\n",
        "### replace\n",
        "заменяет каждое вхождение первой строки-аргумента на вторую строку-аргумент и возвращает результат, исходная строка не изменяется.\n",
        "\n",
        "Если третьим аргументом передано число, то выполняется только такое число замен.\n",
        "\n",
        "Например,\n",
        "\n",
        "'This is my favourite string'.replace('is', '0') возвращает\n",
        "'Th0 0 my favourite string', а если указать, что нужно выполнить только одну замену, т.е. 'This is my favourite string'.replace('is', '0', 1), то получим 'Th0 is my favourite string'.\n",
        "\n",
        "### split\n",
        "возвращает список list из строк, на которые можно разбить строку с помощью разделителя sep (необязательный аргумент метода split, по умолчанию пробел). Можно задать максимальное число разбиений.\n",
        "\n",
        "### isdigit\n",
        "возвращает True, если все символы строки цифры, причем строка не пустая, иначе возвращает False.\n",
        "\n",
        "Например, '12345'.isdigit() True, '1e'.isdigit() False.\n",
        "\n",
        "### isalpha\n",
        "возвращает True, если все символы строки буквы, причем строка не пустая, иначе возвращает False.\n",
        "\n",
        "Например, 'absd'.isalpha() True, '1e'.isalpha() False.\n",
        "\n",
        "### upper\n",
        "заменяет каждую маленькую букву на большую и возвращает результат, исходная строка не изменяется.\n",
        "### lower\n",
        "заменяет каждую большую букву на маленькую и возвращает результат, исходная строка не изменяется.\n",
        "## Пример 1. find\n",
        "\n",
        "Пользователь вводит строку из букв и цифр, программа выводит на экран позиции цифр в строке.\n"
      ]
    },
    {
      "cell_type": "code",
      "metadata": {
        "colab": {
          "base_uri": "https://localhost:8080/"
        },
        "id": "W7CmF-vtcL0K",
        "outputId": "f64031c6-2274-4305-f181-66f2337f24aa"
      },
      "source": [
        "my_str = input('Введите строку: ')\n",
        "for cif in range(10):\n",
        "    print(f'{cif}: {my_str.find(str(cif))}')"
      ],
      "execution_count": null,
      "outputs": [
        {
          "output_type": "stream",
          "name": "stdout",
          "text": [
            "Введите строку: f63nd8g9ej64-vn289v\n",
            "0: -1\n",
            "1: -1\n",
            "2: 15\n",
            "3: 2\n",
            "4: 11\n",
            "5: -1\n",
            "6: 1\n",
            "7: -1\n",
            "8: 5\n",
            "9: 7\n"
          ]
        }
      ]
    },
    {
      "cell_type": "markdown",
      "metadata": {
        "id": "Jh-dQ1M1O_JQ"
      },
      "source": [
        "Программа вывела -1 для цифр, которые не встретились во введенной строке. Перепишем, чтобы отсутствующие цифры не выводились:"
      ]
    },
    {
      "cell_type": "code",
      "metadata": {
        "colab": {
          "base_uri": "https://localhost:8080/"
        },
        "id": "5qNkcImAPMpc",
        "outputId": "c94c6a81-f2a3-4483-824f-2fd7e4ae278a"
      },
      "source": [
        "my_str = input('Введите строку: ')\n",
        "for cif in range(10):\n",
        "    number = my_str.find(str(cif))\n",
        "    if number != -1:\n",
        "        print(f'{cif}: {number}')"
      ],
      "execution_count": null,
      "outputs": [
        {
          "output_type": "stream",
          "name": "stdout",
          "text": [
            "Введите строку: f63nd8g9ej64-vn289v\n",
            "2: 15\n",
            "3: 2\n",
            "4: 11\n",
            "6: 1\n",
            "8: 5\n",
            "9: 7\n"
          ]
        }
      ]
    },
    {
      "cell_type": "markdown",
      "metadata": {
        "id": "OP_UJBJPPq6b"
      },
      "source": [
        "Заметим, что find для цифры 6 нашел только первое вхождение, всегда поиск прекращается, как только найден нужный символ.\n",
        "\n",
        "Рекомендуется использовать find только в том случае, если нужно определить позицию символа. Если требуется только узнать, есть ли такой символ в строе, нужно пользоваться in"
      ]
    },
    {
      "cell_type": "code",
      "metadata": {
        "colab": {
          "base_uri": "https://localhost:8080/"
        },
        "id": "bcVXy9z2QEb0",
        "outputId": "a6a3aca6-87ad-4f32-b154-c9134fb7e353"
      },
      "source": [
        "my_str = input('Введите строку: ')\n",
        "for cif in range(10):\n",
        "    if str(cif) in my_str:\n",
        "        print(cif, end=' ')"
      ],
      "execution_count": null,
      "outputs": [
        {
          "output_type": "stream",
          "name": "stdout",
          "text": [
            "Введите строку: f63nd8g9ej64-vn289v\n",
            "2 3 4 6 8 9 "
          ]
        }
      ]
    },
    {
      "cell_type": "markdown",
      "metadata": {
        "id": "9AGiJVBFQjIa"
      },
      "source": [
        "Можно искать только в части строки:"
      ]
    },
    {
      "cell_type": "code",
      "metadata": {
        "colab": {
          "base_uri": "https://localhost:8080/"
        },
        "id": "b1e2EOAzQphi",
        "outputId": "cd26c367-d571-4687-92a4-69df7a66a886"
      },
      "source": [
        "my_str.find('6', 5, -1)"
      ],
      "execution_count": null,
      "outputs": [
        {
          "output_type": "execute_result",
          "data": {
            "text/plain": [
              "10"
            ]
          },
          "metadata": {},
          "execution_count": 10
        }
      ]
    },
    {
      "cell_type": "markdown",
      "metadata": {
        "id": "Dlntdk05RQM0"
      },
      "source": [
        "Так удалось определить номер второго вхождения цифры 6.\n",
        "\n",
        "find может определить позицию одной строки внутри другой:"
      ]
    },
    {
      "cell_type": "code",
      "metadata": {
        "colab": {
          "base_uri": "https://localhost:8080/"
        },
        "id": "_nvnqxZERXYx",
        "outputId": "afdeb38b-acc5-4710-af19-521aa42e0afd"
      },
      "source": [
        "my_str.find('3nd8g')"
      ],
      "execution_count": null,
      "outputs": [
        {
          "output_type": "execute_result",
          "data": {
            "text/plain": [
              "2"
            ]
          },
          "metadata": {},
          "execution_count": 13
        }
      ]
    },
    {
      "cell_type": "markdown",
      "metadata": {
        "id": "iGelo0W-V3YT"
      },
      "source": [
        "В этом случае find возвращает позицию первого символа строки, которую ищет.\n",
        "## Пример 2. replace\n",
        "Пользователь вводит строку из букв и цифр, программа заменяет цифры на точки и выводит на экран результат."
      ]
    },
    {
      "cell_type": "code",
      "metadata": {
        "colab": {
          "base_uri": "https://localhost:8080/"
        },
        "id": "zC-uG1-gWST7",
        "outputId": "725dbb5a-067b-4be0-85c5-c4184fece92c"
      },
      "source": [
        "my_str = input('Введите строку из букв и цифр: ')\n",
        "for cif in range(10):\n",
        "    my_str = my_str.replace(str(cif), '.')\n",
        "print(my_str)"
      ],
      "execution_count": null,
      "outputs": [
        {
          "output_type": "stream",
          "name": "stdout",
          "text": [
            "Введите строку из букв и цифр: Digits 1 2 3 4\n",
            "Digits . . . .\n"
          ]
        }
      ]
    },
    {
      "cell_type": "markdown",
      "metadata": {
        "id": "wNGLyuLTGc18"
      },
      "source": [
        "## Пример 3. replace\n",
        "Пользователь вводит строку из букв и цифр, программа заменяет первое вхождение каждой цифры на соответствующее цифре число точек и выводит на экран результат."
      ]
    },
    {
      "cell_type": "code",
      "metadata": {
        "colab": {
          "base_uri": "https://localhost:8080/"
        },
        "id": "cu7vurUdG5fl",
        "outputId": "54489ade-e854-403e-eb96-c69b6a98f89b"
      },
      "source": [
        "my_str = input('Введите строку из букв и цифр: ')\n",
        "for cif in range(10):\n",
        "    my_str = my_str.replace(str(cif), '.' * cif, 1)\n",
        "print(my_str)"
      ],
      "execution_count": null,
      "outputs": [
        {
          "output_type": "stream",
          "name": "stdout",
          "text": [
            "Введите строку из букв и цифр: Digit 1 1 1 digit 0 0 0 0 digit 5 5 5\n",
            "Digit . 1 1 digit  0 0 0 digit ..... 5 5\n"
          ]
        }
      ]
    },
    {
      "cell_type": "markdown",
      "metadata": {
        "id": "b5WYqmyEdSm_"
      },
      "source": [
        "##Пример 4. split\n",
        "Представить в виде списка строк текст:\n",
        "\n",
        "'Это;текст;который;нужно;разбить;на;отдельные строки'\n",
        "\n",
        "разделители строк ';'.\n",
        "\n",
        "Поскольку между словами отдельные и строки нет ;, то отдельные строки будет одной строкой."
      ]
    },
    {
      "cell_type": "code",
      "metadata": {
        "colab": {
          "base_uri": "https://localhost:8080/"
        },
        "id": "h_--R0nfeG9R",
        "outputId": "855cf61b-3961-4ae0-c4e6-1c1b455fdd8c"
      },
      "source": [
        "'Это;текст;который;нужно;разбить;на;отдельные строки'.split(sep=';')"
      ],
      "execution_count": null,
      "outputs": [
        {
          "output_type": "execute_result",
          "data": {
            "text/plain": [
              "['Это', 'текст', 'который', 'нужно', 'разбить', 'на', 'отдельные строки']"
            ]
          },
          "metadata": {},
          "execution_count": 18
        }
      ]
    },
    {
      "cell_type": "markdown",
      "metadata": {
        "id": "6MrqWgZmeWGv"
      },
      "source": [
        "Зададим максимальное число разбиений 4."
      ]
    },
    {
      "cell_type": "code",
      "metadata": {
        "colab": {
          "base_uri": "https://localhost:8080/"
        },
        "id": "QaZN0mVeees_",
        "outputId": "eb2dcad1-e9f4-42a5-fc50-be3a73986b6f"
      },
      "source": [
        "'Это;текст;который;нужно;разбить;на;отдельные строки'.split(sep=';', maxsplit=4)"
      ],
      "execution_count": null,
      "outputs": [
        {
          "output_type": "execute_result",
          "data": {
            "text/plain": [
              "['Это', 'текст', 'который', 'нужно', 'разбить;на;отдельные строки']"
            ]
          },
          "metadata": {},
          "execution_count": 19
        }
      ]
    },
    {
      "cell_type": "markdown",
      "metadata": {
        "id": "tMuCHw9PewAI"
      },
      "source": [
        "##Пример 5. isdigit, isalpha, upper\n",
        "По строке '1a23bf51FG24' построим две новые строки, первая состоит только из букв нашей строки, причем все буквы сделаем большими, а вторая строка состоит из цифр."
      ]
    },
    {
      "cell_type": "code",
      "metadata": {
        "colab": {
          "base_uri": "https://localhost:8080/"
        },
        "id": "8hwIMsNRfZqo",
        "outputId": "993ac4c5-d496-4995-c72c-fb6cdd2c95e5"
      },
      "source": [
        "my_str = '1a23bf51FG24'.upper()\n",
        "first_str = ''\n",
        "second_str = ''\n",
        "for symb in my_str:\n",
        "    if symb.isalpha():\n",
        "        first_str += symb\n",
        "    elif symb.isdigit():\n",
        "        second_str += symb\n",
        "print(first_str, second_str)"
      ],
      "execution_count": null,
      "outputs": [
        {
          "output_type": "stream",
          "name": "stdout",
          "text": [
            "ABFFG 1235124\n"
          ]
        }
      ]
    },
    {
      "cell_type": "markdown",
      "source": [
        "Синтаксис метода join выглядит так:\n",
        "\n",
        "строка-разделитель.join(итерируемый_объект)\n",
        "\n",
        "где:\n",
        "- строка-разделитель - строка, которая будет вставлена между элементами;\n",
        "- итерируемый_объект - итерируемый объект, элементы которого нужно объединить.\n",
        "\n",
        "\n",
        "Метод join может быть полезным для создания CSV-файлов, генерации SQL-запросов, форматирования вывода и других задач, где необходимо объединить элементы в строку с определенными разделителями."
      ],
      "metadata": {
        "id": "VAQFWYwgUOml"
      }
    },
    {
      "cell_type": "code",
      "source": [
        "names = [\"Alice\", \"Bob\", \"Charlie\"]\n",
        "result = \", \".join(names)\n",
        "print(result)\n",
        "# Вывод: Alice, Bob, Charlie"
      ],
      "metadata": {
        "colab": {
          "base_uri": "https://localhost:8080/"
        },
        "id": "c3aA3xCcUSbp",
        "outputId": "b7040de2-f941-4dea-ca80-e68d0cc4fb2d"
      },
      "execution_count": null,
      "outputs": [
        {
          "output_type": "stream",
          "name": "stdout",
          "text": [
            "Alice, Bob, Charlie\n"
          ]
        }
      ]
    },
    {
      "cell_type": "code",
      "source": [
        "type('jdkslsdgdks')"
      ],
      "metadata": {
        "colab": {
          "base_uri": "https://localhost:8080/"
        },
        "id": "wjobWJXlsocM",
        "outputId": "e26347c3-57b1-41ed-8bd4-99ed3c4a137a"
      },
      "execution_count": 11,
      "outputs": [
        {
          "output_type": "execute_result",
          "data": {
            "text/plain": [
              "str"
            ]
          },
          "metadata": {},
          "execution_count": 11
        }
      ]
    },
    {
      "cell_type": "code",
      "source": [
        "s1 = 'Hello'\n",
        "s2 = 'Goodbye'\n",
        "result = s1 + ' ' + s2 # конкатенация строк\n",
        "s_res = s1 * 100\n",
        "print(result) # просто выводим строку\n",
        "print(len(s_res)) # выводим длину строки\n",
        "print(s1[0])\n",
        "print(s1[-1])\n",
        "print(s1[1])\n",
        "print(s1[-4])\n",
        "\n",
        "# H  e  l  l  o\n",
        "# 0  1  2  3  4\n",
        "# -5 -4 -3 -2 -1"
      ],
      "metadata": {
        "colab": {
          "base_uri": "https://localhost:8080/"
        },
        "id": "MfGQ-yaasqTn",
        "outputId": "78f1028d-ae16-49e4-b4c8-f9334f711d54"
      },
      "execution_count": 12,
      "outputs": [
        {
          "output_type": "stream",
          "name": "stdout",
          "text": [
            "Hello Goodbye\n",
            "500\n",
            "H\n",
            "o\n",
            "e\n",
            "e\n"
          ]
        }
      ]
    },
    {
      "cell_type": "markdown",
      "metadata": {
        "id": "Fe4hOVsAkHRW"
      },
      "source": [
        "##Задание 1.\n",
        "Пользователь вводит строку из символов, программа выводит на экран первую и вторую позиции вхождений цифры 1, а если единица встречается только один раз, то только первую позицию, если же единицы в строке нет, то выводится текст '1 в строке нет'."
      ]
    },
    {
      "cell_type": "code",
      "metadata": {
        "id": "Ht26dn-r_u9y"
      },
      "source": [],
      "execution_count": null,
      "outputs": []
    },
    {
      "cell_type": "markdown",
      "metadata": {
        "id": "CwjIe2uskjQt"
      },
      "source": [
        "##Задание 2.\n",
        "Пользователь вводит строку из символов, программа заменяет ',', '.' и ';' на пробел, если какой-то из этих символов находится в конце строки, то он просто убирается, т.е. строка-результат не должна оканчиваться на пробел."
      ]
    },
    {
      "cell_type": "code",
      "metadata": {
        "id": "hP3lvlgF_wIA"
      },
      "source": [],
      "execution_count": null,
      "outputs": []
    },
    {
      "cell_type": "markdown",
      "metadata": {
        "id": "DOQW2V8tma_O"
      },
      "source": [
        "##Задание 3.\n",
        "Пользователь вводит строку из символов, программа заменяет не более одного вхождения цифры 1 на 0, не более двух вхождений 2 на 1 и т.д., в конце не более 9 вхождений цифры 9 на 8."
      ]
    },
    {
      "cell_type": "code",
      "metadata": {
        "id": "BxWXqPiR_xWw"
      },
      "source": [],
      "execution_count": null,
      "outputs": []
    },
    {
      "cell_type": "markdown",
      "metadata": {
        "id": "ZKcsmhitoVBo"
      },
      "source": [
        "##Задание 4.\n",
        "Пользователь вводит текст, содержащий цифры, буквы, запятые и точки, программа составляет список слов.\n",
        "\n",
        "Указание: вначале можно убрать все цифры, заменить запятые и точки на пробел, после чего применить split."
      ]
    },
    {
      "cell_type": "code",
      "metadata": {
        "id": "LjacjyqT_yqR"
      },
      "source": [],
      "execution_count": null,
      "outputs": []
    },
    {
      "cell_type": "markdown",
      "metadata": {
        "id": "IQyfAA_1qOyu"
      },
      "source": [
        "##Задание 5.\n",
        "Пользователь вводит десятичную дробь, например, 123.456, программа выводит представление в виде суммы целой части и правильной простой несократимой дроби.\n",
        "\n",
        "Например, если введено 1.2, программа выводит 1 1/5.\n",
        "\n",
        "Указание: для сокращения дроби можно пользоваться модулем math, функцией gcd,\n",
        "для выделения целой и дробной части можно использовать split."
      ]
    },
    {
      "cell_type": "code",
      "metadata": {
        "id": "RAlWvwUeua_Q"
      },
      "source": [
        "from math import gcd"
      ],
      "execution_count": null,
      "outputs": []
    },
    {
      "cell_type": "code",
      "metadata": {
        "id": "a6x_T2tD_2dY"
      },
      "source": [],
      "execution_count": null,
      "outputs": []
    },
    {
      "cell_type": "markdown",
      "metadata": {
        "id": "ADD-PUD7v3_B"
      },
      "source": [
        "##Задание 6*.\n",
        "Пользователь вводит текст с круглыми скобками, возможны вложенные скобки. Программа выводит текст 'Скобки сбалансированы' или 'Скобки не сбалансированы'.\n",
        "\n",
        "Например,\n",
        "\n",
        "текст (текст (текст) и еще (текст)) и в конце (текст)\n",
        "\n",
        "'Скобки сбалансированы'\n",
        "\n",
        "текст (текст (текст и еще (текст и в конце (текст)\n",
        "\n",
        "'Скобки не сбалансированы'\n",
        "\n"
      ]
    },
    {
      "cell_type": "code",
      "metadata": {
        "id": "7IiyptDa_4Lg"
      },
      "source": [],
      "execution_count": null,
      "outputs": []
    },
    {
      "cell_type": "markdown",
      "metadata": {
        "id": "Ju1Hj0tnwuJ4"
      },
      "source": [
        "##Задание 7**.\n",
        "Пользователь вводит строку из символов, программа выводит на экран все позиции вхождений каждой цифры в отдельности.\n",
        "\n",
        "Например, для строки '12233000020010201' вывод\n",
        "\n",
        "0: 5, 6, 7, 8, 10, 11, 13, 15\n",
        "1:"
      ]
    },
    {
      "cell_type": "markdown",
      "source": [
        "##Задание 7. Шеренга\n",
        "Петя перешёл в другую школу. На уроке физкультуры ему понадобилось определить своё место в строю. Помогите ему это сделать.\n",
        "\n",
        "Формат ввода:\n",
        "Программа получает на вход невозрастающую последовательность натуральных чисел, означающих рост каждого человека в строю. После этого вводится число X – рост Пети. Все числа во входных данных натуральные и не превышают 200.\n",
        "\n",
        "Формат вывода:\n",
        "Выведите номер, под которым Петя должен встать в строй. Если в строю есть люди с одинаковым ростом, таким же, как у Пети, то он должен встать после них.\n",
        "\n",
        "Пример 1\n",
        "\n",
        "Ввод\n",
        "\n",
        "165 163 160 160 157 157 155 154\n",
        "\n",
        "162\n",
        "\n",
        "Вывод\n",
        "\n",
        "3\n",
        "\n",
        "\n",
        "Пример 2\n",
        "\n",
        "Ввод\n",
        "\n",
        "165 163 160 160 157 157 155 154\n",
        "\n",
        "160\n",
        "\n",
        "Вывод\n",
        "\n",
        "5"
      ],
      "metadata": {
        "id": "uoiS8UVCOqty"
      }
    },
    {
      "cell_type": "code",
      "source": [
        "a = list(map(int, input().split()))\n",
        "height = int(input())\n",
        "p = 1\n",
        "for cur in a:\n",
        "    if cur >= height:\n",
        "        p += 1\n",
        "print(p)"
      ],
      "metadata": {
        "id": "wDSImV6BPNOU",
        "colab": {
          "base_uri": "https://localhost:8080/"
        },
        "outputId": "7503cbbf-2f8b-4b8a-e68b-b1e82346700f"
      },
      "execution_count": 1,
      "outputs": [
        {
          "output_type": "stream",
          "name": "stdout",
          "text": [
            "165 163 160 160 157 157 155 154\n",
            "162\n",
            "3\n"
          ]
        }
      ]
    },
    {
      "cell_type": "markdown",
      "source": [
        "##Задание 8. Удаление символа\n",
        "\n",
        "Дана строка. Удалите из этой строки все символы @.\n",
        "\n",
        "Формат ввода:\n",
        "Вводится строка.\n",
        "\n",
        "Формат вывода:\n",
        "Выведите ответ на задачу.\n",
        "\n",
        "Пример 1\n",
        "\n",
        "Ввод\n",
        "\n",
        "Bilbo.Baggins@bagend.hobbiton.shire.me\n",
        "\n",
        "Вывод\n",
        "\n",
        "Bilbo.Bagginsbagend.hobbiton.shire.me\n"
      ],
      "metadata": {
        "id": "Kfn2C8NWP9X1"
      }
    },
    {
      "cell_type": "code",
      "source": [
        "print(input().replace('@',''))"
      ],
      "metadata": {
        "id": "pLHDtLLGQJtV",
        "colab": {
          "base_uri": "https://localhost:8080/"
        },
        "outputId": "19d481f3-742b-4a4f-ca53-7a244b279f1c"
      },
      "execution_count": 2,
      "outputs": [
        {
          "output_type": "stream",
          "name": "stdout",
          "text": [
            "Bilbo.Baggins@bagend.hobbiton.shire.me\n",
            "Bilbo.Bagginsbagend.hobbiton.shire.me\n"
          ]
        }
      ]
    },
    {
      "cell_type": "markdown",
      "source": [
        "## Задание 9. Вставка символа\n",
        "\n",
        "Дана строка. Получите новую строку, вставив между двумя символами исходной строки символ *. Выведите полученную строку.\n",
        "\n",
        "Формат ввода:\n",
        "Вводится строка.\n",
        "\n",
        "Формат вывода:\n",
        "Выведите ответ на задачу.\n",
        "\n",
        "![image.png](data:image/png;base64,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)\n"
      ],
      "metadata": {
        "id": "KhmCVKNYRFgu"
      }
    },
    {
      "cell_type": "code",
      "source": [
        "list_ch = input()\n",
        "print('*'.join(list_ch))"
      ],
      "metadata": {
        "id": "zNptDIocRaQI",
        "colab": {
          "base_uri": "https://localhost:8080/"
        },
        "outputId": "41e9010c-99b8-4a81-cb95-1aa7aa59c795"
      },
      "execution_count": 3,
      "outputs": [
        {
          "output_type": "stream",
          "name": "stdout",
          "text": [
            "Python\n",
            "P*y*t*h*o*n\n"
          ]
        }
      ]
    },
    {
      "cell_type": "markdown",
      "source": [
        "\n",
        "1) Заменить все гласные буквы в строке на символ \"*\".\n",
        "\n",
        "2) Посчитать количество символов в строке.\n",
        "\n",
        "3) Проверить, является ли строка палиндромом.\n",
        "\n",
        "4) Получить первые три и последние три символа строки и объединить их в одну строку.\n",
        "\n",
        "5) Разделить строку на список слов и подсчитать количество слов."
      ],
      "metadata": {
        "id": "50PJdeqsV76A"
      }
    },
    {
      "cell_type": "code",
      "source": [
        "# 2\n",
        "string = input()\n",
        "count = 0\n",
        "for char in string:\n",
        "    count += 1\n",
        "print(count)"
      ],
      "metadata": {
        "colab": {
          "base_uri": "https://localhost:8080/"
        },
        "id": "AVGzEKu6r2LW",
        "outputId": "e1986fbc-fa94-41a7-fc98-8336d20c029f"
      },
      "execution_count": 9,
      "outputs": [
        {
          "output_type": "stream",
          "name": "stdout",
          "text": [
            "shkdcbsdus\n",
            "10\n"
          ]
        }
      ]
    },
    {
      "cell_type": "code",
      "source": [
        "# 5\n",
        "string = input()\n",
        "words = string.split()\n",
        "count = len(words)\n",
        "print(count)"
      ],
      "metadata": {
        "colab": {
          "base_uri": "https://localhost:8080/"
        },
        "id": "mYVQQuLbsIsb",
        "outputId": "12a743c2-6176-4742-872d-40f8d884a0fe"
      },
      "execution_count": 10,
      "outputs": [
        {
          "output_type": "stream",
          "name": "stdout",
          "text": [
            "Hahaha hihihi hohoho\n",
            "3\n"
          ]
        }
      ]
    }
  ]
}